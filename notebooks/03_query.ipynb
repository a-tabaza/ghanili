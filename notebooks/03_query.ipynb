{
 "cells": [
  {
   "cell_type": "code",
   "execution_count": 1,
   "metadata": {},
   "outputs": [],
   "source": [
    "import json\n",
    "import bm25s\n",
    "import arabicstopwords.arabicstopwords as stp\n",
    "from tashaphyne.stemming import ArabicLightStemmer"
   ]
  },
  {
   "cell_type": "code",
   "execution_count": 2,
   "metadata": {},
   "outputs": [],
   "source": [
    "ArListem = ArabicLightStemmer()\n",
    "stemmer = lambda x: [ArListem.light_stem(x_) for x_ in x]"
   ]
  },
  {
   "cell_type": "code",
   "execution_count": 3,
   "metadata": {},
   "outputs": [],
   "source": [
    "stopwords = stp.stopwords_list()"
   ]
  },
  {
   "cell_type": "code",
   "execution_count": 4,
   "metadata": {},
   "outputs": [],
   "source": [
    "lyrics = json.load(open(\"../data/songs_with_lyrics_no_error_message.json\"))"
   ]
  },
  {
   "cell_type": "code",
   "execution_count": 5,
   "metadata": {},
   "outputs": [],
   "source": [
    "retriever = bm25s.BM25.load(\"../lyrics_index\", load_corpus=True)"
   ]
  },
  {
   "cell_type": "code",
   "execution_count": 25,
   "metadata": {},
   "outputs": [],
   "source": [
    "def retrieve_bm25(query, k=5):\n",
    "    query_tokens = bm25s.tokenize(\n",
    "        query, stemmer=stemmer, stopwords=stopwords, show_progress=False\n",
    "    )\n",
    "    results, scores = retriever.retrieve(\n",
    "        query_tokens, k=k, show_progress=False\n",
    "    )\n",
    "    scores = scores.squeeze().tolist()\n",
    "    results = results.squeeze().tolist()\n",
    "    songs = [lyrics[result] for result in results]\n",
    "    pairs = zip(results, songs, scores)\n",
    "    return list(pairs)"
   ]
  },
  {
   "cell_type": "code",
   "execution_count": 29,
   "metadata": {},
   "outputs": [
    {
     "data": {
      "text/plain": [
       "[(8359,\n",
       "  {'title': 'ايه ذنبي ايه',\n",
       "   'url': 'https://fnanen.com/klmat/alaghany/3/3bdal7lym-7afzh/ayh-zanby-ayh.html?arabic=ايه ذنبي ايه',\n",
       "   'year': '1955',\n",
       "   'writer': 'مأمون الشناوي',\n",
       "   'composer': 'محمد عبدالوهاب',\n",
       "   'preview_lyrics': '',\n",
       "   'views': 2791,\n",
       "   'lyrics': 'إيه ذنبي إيه .. ما تقوللي عليه تخاصمني ليه .. لما انت حبيبي الروح وياك .. والقلب معاك ولإمتى جفاك .. لما انت حبيبي من غير ما تقوللي تهجرني .. وتفوتني لحيرتي وشجوني عاتبني يمكن تعذرني .. يمكن عذالي ظلموني وانت وأنا ما لناش هنا غير بعضنا إيه ذنبي إيه ما تقوللي عليه .. تخاصمني ليه لما أنت حبيبي فكرني هجرتك امتى .. وعملت اللي انت عملته طول عمري بحبك انت .. وغرامك عمري ما خنته وحياتك عندي .. ح افضل على عهدي .. باقي على ودي ليه بس نضيع أيامنا .. في خصامك وحنيني إليك ليالينا اشتاقت لكلامنا .. وعيني وحشتها عنيك وحياتك عندي .. ح أفضل على عهدي .. باقي على ودي وانت وأنا ما لناش هنا غير بعضنا إيه ذنبي إيه ما تقوللي عليه .. تخاصمني ليه لما أنت حبيبي الروح وياك .. والقلب معاك .. ولإمتى جفاك لما انت حبيبي',\n",
       "   'artist': 'عبدالحليم حافظ'},\n",
       "  8.515203475952148),\n",
       " (6446,\n",
       "  {'title': 'بيبان في عينيك',\n",
       "   'url': 'https://fnanen.com/klmat/alaghany/sh/shahynaz/byban-fy-3ynyk.html?arabic=بيبان في عينيك',\n",
       "   'year': '2005',\n",
       "   'writer': '',\n",
       "   'composer': '',\n",
       "   'preview_lyrics': '',\n",
       "   'views': 1039,\n",
       "   'lyrics': 'بيبان في عينيك .. بيبان في عينيك .. هواك حبيبى ليه بتداري كده قلبي داب ليالي وليه يا غالي كده .. قوللي أي حاجه ومين قال كده ترضى بإنشغالي .. يا حبيبي قولت لك تعالى وخد عيني أنا .. بنسى كل حاجه حبيبي عندها شوقي ليك يا غالي بقاله كام سنه .. حس مره حالي يا حبيبي ويهون عليك كده يا حبيبي .. ويهون عليك تشغل بالي ولا غيرك إنت يا حبيبي .. ولا غير هواك يشغل بالي حبيبي ليه بتداري كده .. قلبي داب ليالي وليه يا غالي كده .. قوللي أي حاجه ومين قال كده ترضى بإنشغالي .. يا حبيبي قولت لك تعالى وخد عيني أنا .. بنسى كل حاجه حبيبي عندها شوقي ليك يا غالي بقاله كام سنه .. حس مره حالي يا حبيبي -- مستني إيه يا حبيبي بقى بين إيديك .. حياتي وأديني مشتاقه وأعمل إيه في ناري لا كلمه ولا لقى .. وإنت مش فى بالك يا حبيبي ويلى آه يا ويلي واديني قلتها .. دنيا لو مش إنت ما كنت عيشتها خد عيوني عمري حياتي كلها .. بس سيبني جنبك يا حبيبي بيبان في عينيك .. بيبان في عينيك .. هواك حبيبى ليه بتداري كده قلبي داب ليالي وليه يا غالي كده .. قوللي أي حاجه ومين قال كده ترضى بإنشغالي .. يا حبيبي قولت لك تعالى وخد عيني أنا .. بنسى كل حاجه حبيبي عندها شوقي ليك يا غالي بقاله كام سنه .. حس مره حالي يا حبيبي ويهون عليك كده يا حبيبي .. ويهون عليك تشغل بالي ولا غيرك إنت يا حبيبي .. ولا غير هواك يشغل بالي',\n",
       "   'artist': 'شاهيناز'},\n",
       "  6.059302806854248),\n",
       " (10967,\n",
       "  {'title': 'اوعدني',\n",
       "   'url': 'https://fnanen.com/klmat/alaghany/f/fayzh-a7md/ao3dny.html?arabic=اوعدني',\n",
       "   'year': '',\n",
       "   'writer': 'مصطفى عبدالرحمن',\n",
       "   'composer': 'محمد سلطان',\n",
       "   'preview_lyrics': '',\n",
       "   'views': 268,\n",
       "   'lyrics': 'اوعدني بس إنتا اوعدني كل الوعود رح تسعدني اوعد وقول بكره رح قابلك واخلف ماتجيش يمكن على الأمل الخداع أتهنى وأعيش ولما نتقابل تاني اكدب عليا وطمني ح أنسى أسايا وحرماني لما أشوفك وتشوفني اوعدني بس إنتا اوعدني كل الوعود رح تسعدني اوعدني وقوللي أقابلك فين وأنا أستناك ولو إن عارفة من طبعك إيه حظي معاك ولما نتقابل تاني قوللي أشوفك إمتى وفين ح أنسى أسايا وحرماني لما تجي العين بالعين اوعدني انتا بس أوعدني كل الوعود رح تسعدني اوعدني يمكن يوم تنسى وتيجي في معادك وتقوللي مين خلاك تقسى وتنسى ودادك انا بدي دايما توعدني كل الوعود رح تسعدني ولما نتقابل تاني اكدب عليا وطمني ح أنسى أسايا وحرماني لما أشوفك وتشوفني اوعدني بس إنتا اوعدني',\n",
       "   'artist': 'فايزه احمد'},\n",
       "  5.7193708419799805),\n",
       " (11217,\n",
       "  {'title': 'يا حبيبي ياللي جنبي',\n",
       "   'url': 'https://fnanen.com/klmat/alaghany/f/fryd-ala6rsh/ya-7byby-yally-jnby.html?arabic=يا حبيبي ياللي جنبي',\n",
       "   'year': '1949',\n",
       "   'writer': 'احمد رامي',\n",
       "   'composer': 'فريد الأطرش',\n",
       "   'preview_lyrics': '',\n",
       "   'views': 1841,\n",
       "   'lyrics': 'يا حبيبي ياللي جنبي ياللي ساكن جوه قلبي إمتى ح يبان المخبي من غرامي يا حبيبي واشتكي لك وتواسيني يا آه يا حبيبي حسنك الباهي فتني ياحبيبي والهوى خد عقلي مني إنت إلهامي وفني لو تحن وترضى عني وتراعيني ياحبيبي تحلى أيامي ويهنا لي نصيبي يا آه يا حبيبي في سكون الليل أنادي يا حبيبي طال علي الليل لوحدي ياللي راضي عن سهادي لو تبادلني ودادي في غرامك يا حبيبي تهنى أيامي يا روحي يا حبيبي يا آه يا حبيبي إن شكيت من طول أنيني ياحبيبي أو لقيت الناس فاتوني أشتكي من نار شجوني لك هواي لك حنيني كل همي يا حبيبي ترضى عني وييجي يوم تبقى حبيبي يا آه ياحبيبي',\n",
       "   'artist': 'فريد الاطرش'},\n",
       "  5.541847229003906),\n",
       " (13951,\n",
       "  {'title': 'امتى تعود',\n",
       "   'url': 'https://fnanen.com/klmat/alaghany/m/m7md-3bdalohab/amta-t3od.html?arabic=امتى تعود',\n",
       "   'year': '',\n",
       "   'writer': 'عبدالمحسن عبدالعزيز',\n",
       "   'composer': 'محمد عبدالوهاب',\n",
       "   'preview_lyrics': '',\n",
       "   'views': 1630,\n",
       "   'lyrics': 'إمتى بس تعود يا حبيب الروح دا الغرام بيزيد والفؤاد مجروح هو أنا موعود بالضنى والنوح وإنشغالى عليك إمتى بس تعود',\n",
       "   'artist': 'محمد عبدالوهاب'},\n",
       "  5.333782196044922)]"
      ]
     },
     "execution_count": 29,
     "metadata": {},
     "output_type": "execute_result"
    }
   ],
   "source": [
    "retrieve_bm25(\"قوللي لإمتى يا حبيبي أرضى\")"
   ]
  },
  {
   "cell_type": "code",
   "execution_count": null,
   "metadata": {},
   "outputs": [],
   "source": []
  }
 ],
 "metadata": {
  "kernelspec": {
   "display_name": ".venv",
   "language": "python",
   "name": "python3"
  },
  "language_info": {
   "codemirror_mode": {
    "name": "ipython",
    "version": 3
   },
   "file_extension": ".py",
   "mimetype": "text/x-python",
   "name": "python",
   "nbconvert_exporter": "python",
   "pygments_lexer": "ipython3",
   "version": "3.12.8"
  }
 },
 "nbformat": 4,
 "nbformat_minor": 2
}
