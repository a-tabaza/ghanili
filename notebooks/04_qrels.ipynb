{
 "cells": [
  {
   "cell_type": "code",
   "execution_count": 59,
   "metadata": {},
   "outputs": [],
   "source": [
    "import json\n",
    "import random\n",
    "from tqdm import tqdm\n",
    "from pyarabic import araby"
   ]
  },
  {
   "cell_type": "code",
   "execution_count": 65,
   "metadata": {},
   "outputs": [],
   "source": [
    "lyrics = json.load(open(\"../data/lyrics_preprocessed.json\", \"r\"))"
   ]
  },
  {
   "cell_type": "code",
   "execution_count": 66,
   "metadata": {},
   "outputs": [
    {
     "data": {
      "text/plain": [
       "{'title': 'تجمل',\n",
       " 'url': 'https://fnanen.com/klmat/alaghany/a/abtsam/tjml.html?arabic=تجمل',\n",
       " 'year': '2011',\n",
       " 'writer': 'محمد العبدالله الفيصل',\n",
       " 'composer': 'بندر بن فهد',\n",
       " 'lyrics': 'تجمل معي مره واوفي وبدد هواجيسي وخوفي لا لا تعذر بالظروف جربني مره وشوف انا ما طلبت المستحيل انا ما ابي الا القليل تجمل معي مره واوفي احلم بيوم فيه الوجود لا فيه جفاء ولا فيه صدود تجمعنا كلمه هنيه ورضا واللي تمنينا في ما مضا انا ما طلبت المستحيل انا ما ابي الا القليل تجمل معي مره واوفي',\n",
       " 'artist': 'ابتسام'}"
      ]
     },
     "execution_count": 66,
     "metadata": {},
     "output_type": "execute_result"
    }
   ],
   "source": [
    "lyrics[0]"
   ]
  },
  {
   "cell_type": "code",
   "execution_count": 77,
   "metadata": {},
   "outputs": [],
   "source": [
    "def create_search_query(lyrics):\n",
    "    \"\"\"Operating under the assumption that a user will not query less than 3 words or more than 10 words at once.\"\"\"\n",
    "    tokens = araby.tokenize(lyrics)\n",
    "    n_tokens = len(tokens)\n",
    "\n",
    "    if n_tokens <= 10:\n",
    "        return [lyrics]\n",
    "    \n",
    "    queries = []\n",
    "    while len(queries) != 10:\n",
    "        n_query_token = random.randint(5, 10)\n",
    "        starting_token_idx = random.randint(0, n_tokens)\n",
    "        ending_token_idx = random.randint(starting_token_idx, starting_token_idx+n_query_token)\n",
    "        while (starting_token_idx != ending_token_idx):\n",
    "            if ((ending_token_idx) > (n_tokens-1)):\n",
    "                # print(\"special case:\", tokens[starting_token_idx:]) \n",
    "                ending_token_idx = starting_token_idx + (n_tokens-starting_token_idx)\n",
    "\n",
    "            result =  tokens[starting_token_idx:ending_token_idx]\n",
    "\n",
    "            # if \" \".join(result) == \"\":\n",
    "            #     print(\"special case:\", starting_token_idx, ending_token_idx)\n",
    "            \n",
    "            if len(result) > 3:\n",
    "                queries.append(\" \".join(result))\n",
    "                break\n",
    "            break\n",
    "    return list(set(queries))"
   ]
  },
  {
   "cell_type": "code",
   "execution_count": 78,
   "metadata": {},
   "outputs": [
    {
     "name": "stderr",
     "output_type": "stream",
     "text": [
      "100%|██████████| 18225/18225 [00:01<00:00, 10397.62it/s]\n"
     ]
    }
   ],
   "source": [
    "for lyric in tqdm(lyrics):\n",
    "    lyric[\"queries\"] = create_search_query(lyric[\"lyrics\"])"
   ]
  },
  {
   "cell_type": "code",
   "execution_count": 79,
   "metadata": {},
   "outputs": [
    {
     "data": {
      "text/plain": [
       "{'title': 'نور عيني',\n",
       " 'url': 'https://fnanen.com/klmat/alaghany/r/rashd-almajd/nor-3yny.html?arabic=نور عيني',\n",
       " 'year': '2008',\n",
       " 'writer': 'ساري',\n",
       " 'composer': 'احمد الهرمي',\n",
       " 'lyrics': 'حبنا يانور عيني لايضيع احفظه حتى يلم بنا اجتماع اشتري حبك ولكن ماتبيع كيف تنهي عشرة العمر بضياع ياخلي القلب قلبي لك وديع امر امرك ياهوى بالي يطاع عينك بنظراته الخجله تبيع ماتخفي باللقى وعند الوداع عجل بوصل على قلبي سريع وارفع الحب مدى عمرك شراع والعجب من صوره الحسن البديع خدك الصافي تقل البرق شعاع',\n",
       " 'artist': 'راشد الماجد',\n",
       " 'queries': ['بالي يطاع عينك بنظراته الخجله تبيع ماتخفي',\n",
       "  'حبنا يانور عيني لايضيع احفظه حتى يلم بنا',\n",
       "  'البديع خدك الصافي تقل',\n",
       "  'اجتماع اشتري حبك ولكن ماتبيع كيف',\n",
       "  'ياهوى بالي يطاع عينك بنظراته الخجله',\n",
       "  'وعند الوداع عجل بوصل على قلبي',\n",
       "  'ياخلي القلب قلبي لك وديع امر امرك ياهوى بالي',\n",
       "  'اجتماع اشتري حبك ولكن',\n",
       "  'وديع امر امرك ياهوى بالي يطاع عينك بنظراته الخجله',\n",
       "  'من صوره الحسن البديع خدك']}"
      ]
     },
     "execution_count": 79,
     "metadata": {},
     "output_type": "execute_result"
    }
   ],
   "source": [
    "lyrics[5000]"
   ]
  },
  {
   "cell_type": "code",
   "execution_count": null,
   "metadata": {},
   "outputs": [],
   "source": []
  }
 ],
 "metadata": {
  "kernelspec": {
   "display_name": ".venv",
   "language": "python",
   "name": "python3"
  },
  "language_info": {
   "codemirror_mode": {
    "name": "ipython",
    "version": 3
   },
   "file_extension": ".py",
   "mimetype": "text/x-python",
   "name": "python",
   "nbconvert_exporter": "python",
   "pygments_lexer": "ipython3",
   "version": "3.12.8"
  }
 },
 "nbformat": 4,
 "nbformat_minor": 2
}
