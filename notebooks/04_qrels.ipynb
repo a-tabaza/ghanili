{
 "cells": [
  {
   "cell_type": "code",
   "execution_count": 5,
   "metadata": {},
   "outputs": [],
   "source": [
    "import json\n",
    "from pyarabic import araby"
   ]
  },
  {
   "cell_type": "code",
   "execution_count": 3,
   "metadata": {},
   "outputs": [],
   "source": [
    "lyrics = json.load(open(\"../data/lyrics_preprocessed.json\", \"r\"))"
   ]
  },
  {
   "cell_type": "code",
   "execution_count": 4,
   "metadata": {},
   "outputs": [
    {
     "data": {
      "text/plain": [
       "{'title': 'تجمل',\n",
       " 'url': 'https://fnanen.com/klmat/alaghany/a/abtsam/tjml.html?arabic=تجمل',\n",
       " 'year': '2011',\n",
       " 'writer': 'محمد العبدالله الفيصل',\n",
       " 'composer': 'بندر بن فهد',\n",
       " 'lyrics': 'تجمل معي مره واوفي وبدد هواجيسي وخوفي لا لا تعذر بالظروف جربني مره وشوف انا ما طلبت المستحيل انا ما ابي الا القليل تجمل معي مره واوفي احلم بيوم فيه الوجود لا فيه جفاء ولا فيه صدود تجمعنا كلمه هنيه ورضا واللي تمنينا في ما مضا انا ما طلبت المستحيل انا ما ابي الا القليل تجمل معي مره واوفي',\n",
       " 'artist': 'ابتسام'}"
      ]
     },
     "execution_count": 4,
     "metadata": {},
     "output_type": "execute_result"
    }
   ],
   "source": [
    "lyrics[0]"
   ]
  },
  {
   "cell_type": "code",
   "execution_count": 6,
   "metadata": {},
   "outputs": [],
   "source": [
    "def create_search_query(lyrics):\n",
    "    tokens = araby.tokenize(lyrics)\n",
    "    n_tokens = len(tokens)\n",
    "    "
   ]
  },
  {
   "cell_type": "code",
   "execution_count": 7,
   "metadata": {},
   "outputs": [
    {
     "data": {
      "text/plain": [
       "['تجمل',\n",
       " 'معي',\n",
       " 'مره',\n",
       " 'واوفي',\n",
       " 'وبدد',\n",
       " 'هواجيسي',\n",
       " 'وخوفي',\n",
       " 'لا',\n",
       " 'لا',\n",
       " 'تعذر',\n",
       " 'بالظروف',\n",
       " 'جربني',\n",
       " 'مره',\n",
       " 'وشوف',\n",
       " 'انا',\n",
       " 'ما',\n",
       " 'طلبت',\n",
       " 'المستحيل',\n",
       " 'انا',\n",
       " 'ما',\n",
       " 'ابي',\n",
       " 'الا',\n",
       " 'القليل',\n",
       " 'تجمل',\n",
       " 'معي',\n",
       " 'مره',\n",
       " 'واوفي',\n",
       " 'احلم',\n",
       " 'بيوم',\n",
       " 'فيه',\n",
       " 'الوجود',\n",
       " 'لا',\n",
       " 'فيه',\n",
       " 'جفاء',\n",
       " 'ولا',\n",
       " 'فيه',\n",
       " 'صدود',\n",
       " 'تجمعنا',\n",
       " 'كلمه',\n",
       " 'هنيه',\n",
       " 'ورضا',\n",
       " 'واللي',\n",
       " 'تمنينا',\n",
       " 'في',\n",
       " 'ما',\n",
       " 'مضا',\n",
       " 'انا',\n",
       " 'ما',\n",
       " 'طلبت',\n",
       " 'المستحيل',\n",
       " 'انا',\n",
       " 'ما',\n",
       " 'ابي',\n",
       " 'الا',\n",
       " 'القليل',\n",
       " 'تجمل',\n",
       " 'معي',\n",
       " 'مره',\n",
       " 'واوفي']"
      ]
     },
     "execution_count": 7,
     "metadata": {},
     "output_type": "execute_result"
    }
   ],
   "source": [
    "create_search_query(lyrics[0][\"lyrics\"])"
   ]
  },
  {
   "cell_type": "code",
   "execution_count": null,
   "metadata": {},
   "outputs": [],
   "source": []
  }
 ],
 "metadata": {
  "kernelspec": {
   "display_name": ".venv",
   "language": "python",
   "name": "python3"
  },
  "language_info": {
   "codemirror_mode": {
    "name": "ipython",
    "version": 3
   },
   "file_extension": ".py",
   "mimetype": "text/x-python",
   "name": "python",
   "nbconvert_exporter": "python",
   "pygments_lexer": "ipython3",
   "version": "3.12.8"
  }
 },
 "nbformat": 4,
 "nbformat_minor": 2
}
