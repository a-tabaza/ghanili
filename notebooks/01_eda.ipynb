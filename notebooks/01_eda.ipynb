{
 "cells": [
  {
   "cell_type": "code",
   "execution_count": 5,
   "metadata": {},
   "outputs": [],
   "source": [
    "import json\n",
    "from pyarabic.araby import strip_tatweel, strip_tashkeel"
   ]
  },
  {
   "cell_type": "code",
   "execution_count": 6,
   "metadata": {},
   "outputs": [],
   "source": [
    "songs_with_lyrics = json.load(open(\"../data/songs_with_lyrics.json\", \"r\"))"
   ]
  },
  {
   "cell_type": "code",
   "execution_count": 7,
   "metadata": {},
   "outputs": [],
   "source": [
    "error_string = \"\\nالتبليغ عن خطأ\\n\\n\\n\\n\\n\\n\\n\\n\\n\\n\\n\\n\\n\\n\\n\\n-اختر موضوع-\\nخطأ بكلمات الأغنية\\nخطأ باسم المطرب\\nأخرى\\n-اختر موضوع-\\nخطأ بكلمات الأغنية\\nخطأ باسم المطرب\\nأخرى\\n-اختر موضوع-\\nخطأ بكلمات الأغنية\\nخطأ باسم المطرب\\nأخرى\\n-اختر موضوع-\\nخطأ بكلمات الأغنية\\nخطأ باسم المطرب\\nأخرى\""
   ]
  },
  {
   "cell_type": "code",
   "execution_count": 8,
   "metadata": {},
   "outputs": [],
   "source": [
    "def normalize_arabic_repeated(text):\n",
    "    words = text.split()\n",
    "    normalized_words = []\n",
    "    \n",
    "    for word in words:\n",
    "        normalized_word = ''\n",
    "        prev_char = ''\n",
    "        repeat_count = 0\n",
    "\n",
    "        for char in word:\n",
    "            if char == prev_char:\n",
    "                repeat_count += 1\n",
    "                if repeat_count < 2:\n",
    "                    normalized_word += char\n",
    "            else:\n",
    "                normalized_word += char\n",
    "                prev_char = char\n",
    "                repeat_count = 0\n",
    "                \n",
    "        normalized_words.append(normalized_word)\n",
    "    \n",
    "    return ' '.join(normalized_words)"
   ]
  },
  {
   "cell_type": "code",
   "execution_count": 11,
   "metadata": {},
   "outputs": [],
   "source": [
    "def preprocess_lyrics(songs_with_lyrics):\n",
    "    fixed_lyrics = []\n",
    "    for song in songs_with_lyrics:\n",
    "        song.pop(\"preview_lyrics\")\n",
    "        song.pop(\"views\")\n",
    "        song[\"lyrics\"] = song[\"lyrics\"].replace(error_string, \"\")\n",
    "        song[\"lyrics\"] = normalize_arabic_repeated(strip_tatweel(strip_tashkeel(song[\"lyrics\"])))\n",
    "        fixed_lyrics.append({**song})\n",
    "\n",
    "    return fixed_lyrics"
   ]
  },
  {
   "cell_type": "code",
   "execution_count": 12,
   "metadata": {},
   "outputs": [],
   "source": [
    "fixed_lyrics = preprocess_lyrics(songs_with_lyrics)"
   ]
  },
  {
   "cell_type": "code",
   "execution_count": 13,
   "metadata": {},
   "outputs": [],
   "source": [
    "json.dump(fixed_lyrics, open(\"../data/lyrics_preprocessed.json\", \"w\"), ensure_ascii=False, indent=4)"
   ]
  },
  {
   "cell_type": "code",
   "execution_count": 8,
   "metadata": {},
   "outputs": [
    {
     "name": "stdout",
     "output_type": "stream",
     "text": [
      "تجمل معي مره واوفي وبدد هواجيسي وخوفي لا لا تعذر بالظروف جربني مره وشوف انا ما طلبت المستحيل انا ما ابي الا القليل تجمل معي مره واوفي احلم بيوم فيه الوجود لا فيه جفاء ولا فيه صدود تجمعنا كلمه هنيه ورضا واللي تمنينا في ما مضا انا ما طلبت المستحيل انا ما ابي الا القليل تجمل معي مره واوفي\n"
     ]
    }
   ],
   "source": [
    "print(songs_with_lyrics[0][\"lyrics\"])"
   ]
  },
  {
   "cell_type": "code",
   "execution_count": 14,
   "metadata": {},
   "outputs": [
    {
     "name": "stdout",
     "output_type": "stream",
     "text": [
      "تجمل معي مره واوفي وبدد هواجيسي وخوفي لا لا تعذر بالظروف جربني مره وشوف انا ما طلبت المستحيل انا ما ابي الا القليل تجمل معي مره واوفي احلم بيوم فيه الوجود لا فيه جفاء ولا فيه صدود تجمعنا كلمه هنيه ورضا واللي تمنينا في ما مضا انا ما طلبت المستحيل انا ما ابي الا القليل تجمل معي مره واوفي\n"
     ]
    }
   ],
   "source": [
    "print(fixed_lyrics[0][\"lyrics\"])"
   ]
  },
  {
   "cell_type": "code",
   "execution_count": null,
   "metadata": {},
   "outputs": [],
   "source": []
  }
 ],
 "metadata": {
  "kernelspec": {
   "display_name": ".venv",
   "language": "python",
   "name": "python3"
  },
  "language_info": {
   "codemirror_mode": {
    "name": "ipython",
    "version": 3
   },
   "file_extension": ".py",
   "mimetype": "text/x-python",
   "name": "python",
   "nbconvert_exporter": "python",
   "pygments_lexer": "ipython3",
   "version": "3.12.8"
  }
 },
 "nbformat": 4,
 "nbformat_minor": 2
}
